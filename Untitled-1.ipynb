{
  "cells": [
    {
      "cell_type": "markdown",
      "source": [
        "DESARROLLO WEB PROFESIONAL\n",
        "Nombre del alumno: Oscar David Rodriguez Marin\n",
        "Matrícula: 1719110304\n",
        "Fecha: 14 de agosto de 2022\n",
        "Grupo: IDGS81\n",
        "Bibliografía (VALOR 10 PTS): \n",
        "https://morioh.com/p/71358deec9e1 \n",
        "https://www.geeksforgeeks.org/python-raise-keyword/ \n",
        "https://parasmani300.medium.com/pyrebase-firebase-in-flask-d249a065e0df \n",
        "https://digital55.com/que-es-firebase-funcionalidades-ventajas-conclusiones/ \n",
        "\n"
      ],
      "metadata": {
        "id": "RdRdmQh4O-aO"
      }
    },
    {
      "cell_type": "code",
      "execution_count": 1,
      "metadata": {
        "id": "_fZg_9M5Oh7N"
      },
      "outputs": [],
      "source": [
        "#SQLALchemy ORM\n",
        "from sqlalchemy import create_engine \n",
        "from sqlalchemy import MetaData \n",
        "from sqlalchemy import Table, Column, Integer, String\n",
        "from sqlalchemy import select, insert, update, delete"
      ]
    },
    {
      "cell_type": "code",
      "execution_count": 2,
      "metadata": {
        "id": "B8Vezg3LOh7R"
      },
      "outputs": [],
      "source": [
        "engine = create_engine('sqlite:///prueba.db')"
      ]
    },
    {
      "cell_type": "code",
      "execution_count": 3,
      "metadata": {
        "id": "7qGsfGl7Oh7T"
      },
      "outputs": [],
      "source": [
        "metadata=MetaData()"
      ]
    },
    {
      "cell_type": "code",
      "execution_count": 4,
      "metadata": {
        "id": "dlSxJ5PfOh7V"
      },
      "outputs": [],
      "source": [
        "clientes =Table(\n",
        "    'clientes', metadata,\n",
        "    Column('id_cliente', Integer, primary_key=True),\n",
        "    Column('nombre', String, nullable=False),\n",
        "    Column('email', String, nullable=False),\n",
        ")"
      ]
    },
    {
      "cell_type": "code",
      "execution_count": 5,
      "metadata": {
        "id": "rg7A3xFXOh7X",
        "outputId": "1cb9fd0f-8ac9-4716-e485-4d7f0ead908f",
        "colab": {
          "base_uri": "https://localhost:8080/"
        }
      },
      "outputs": [
        {
          "output_type": "stream",
          "name": "stdout",
          "text": [
            "<class 'sqlalchemy.sql.schema.Table'>\n"
          ]
        }
      ],
      "source": [
        "print(type(clientes))"
      ]
    },
    {
      "cell_type": "code",
      "execution_count": 6,
      "metadata": {
        "id": "yGn6Q_oiOh7Y"
      },
      "outputs": [],
      "source": [
        "metadata.create_all(engine)"
      ]
    },
    {
      "cell_type": "code",
      "execution_count": 7,
      "metadata": {
        "id": "sfZn6DaGOh7a",
        "outputId": "5e880bb9-2613-4a07-83bf-9520b5f8217f",
        "colab": {
          "base_uri": "https://localhost:8080/"
        }
      },
      "outputs": [
        {
          "output_type": "stream",
          "name": "stdout",
          "text": [
            "<class 'sqlalchemy.sql.dml.Insert'>\n",
            "INSERT INTO clientes (nombre, email) VALUES (:nombre, :email)\n"
          ]
        }
      ],
      "source": [
        "stmt = insert(clientes).values(nombre=\"Cliente 1\", email=\"clientes@mail.com\") \n",
        "print(type(stmt))\n",
        "print(stmt)"
      ]
    },
    {
      "cell_type": "code",
      "execution_count": 8,
      "metadata": {
        "id": "ADZy4kZPOh7c"
      },
      "outputs": [],
      "source": [
        "with engine.connect() as conn:\n",
        "    result = conn.execute(stmt)"
      ]
    },
    {
      "cell_type": "code",
      "execution_count": 9,
      "metadata": {
        "id": "5VrTcONROh7d",
        "outputId": "f2e113e1-f838-405b-94e6-303f63f93ac6",
        "colab": {
          "base_uri": "https://localhost:8080/"
        }
      },
      "outputs": [
        {
          "output_type": "stream",
          "name": "stdout",
          "text": [
            "<class 'sqlalchemy.sql.dml.Insert'>\n",
            "INSERT INTO clientes (nombre, email) VALUES (:nombre_m0, :email_m0), (:nombre_m1, :email_m1), (:nombre_m2, :email_m2)\n"
          ]
        }
      ],
      "source": [
        "data =[\n",
        "    {\"nombre\": \"Cliente 2\", \"email\": \"email1@email.com\"},\n",
        "    {\"nombre\": \"Cliente 3\", \"email\": \"email2@email.com\"},\n",
        "    {\"nombre\": \"Cliente 4\", \"email\": \"email3@email.com\"}\n",
        "]\n",
        "stmt = insert(clientes).values(data)\n",
        "print(type(stmt))\n",
        "print(stmt)"
      ]
    },
    {
      "cell_type": "code",
      "execution_count": 10,
      "metadata": {
        "id": "tVNykL7-Oh7g"
      },
      "outputs": [],
      "source": [
        "with engine.connect() as conn:\n",
        "    result = conn.execute(stmt)"
      ]
    },
    {
      "cell_type": "code",
      "execution_count": 11,
      "metadata": {
        "id": "XCiuadsbOh7h",
        "outputId": "472754e6-4d61-4cfb-883d-45536e7de53b",
        "colab": {
          "base_uri": "https://localhost:8080/"
        }
      },
      "outputs": [
        {
          "output_type": "stream",
          "name": "stdout",
          "text": [
            "<class 'sqlalchemy.sql.selectable.Select'>\n",
            "SELECT clientes.id_cliente, clientes.nombre, clientes.email \n",
            "FROM clientes\n"
          ]
        }
      ],
      "source": [
        "stmt =select(clientes)\n",
        "print(type(stmt))\n",
        "print(stmt)"
      ]
    },
    {
      "cell_type": "code",
      "execution_count": 12,
      "metadata": {
        "id": "UFFWQunwOh7j",
        "outputId": "2971b460-0533-4fd1-9dab-cb8a38ce00c6",
        "colab": {
          "base_uri": "https://localhost:8080/"
        }
      },
      "outputs": [
        {
          "output_type": "stream",
          "name": "stdout",
          "text": [
            "Cliente 1\n",
            "Cliente 2\n",
            "Cliente 3\n",
            "Cliente 4\n"
          ]
        }
      ],
      "source": [
        "with engine.connect() as conn:\n",
        "    result = conn.execute(stmt)\n",
        "    for key in result.fetchall():\n",
        "        print(key.nombre)"
      ]
    },
    {
      "cell_type": "code",
      "execution_count": 13,
      "metadata": {
        "id": "gOarYpdvOh7k",
        "outputId": "fd791b61-c732-4c1e-95fd-f247600d9b29",
        "colab": {
          "base_uri": "https://localhost:8080/"
        }
      },
      "outputs": [
        {
          "output_type": "stream",
          "name": "stdout",
          "text": [
            "<class 'sqlalchemy.sql.selectable.Select'>\n",
            "SELECT clientes.id_cliente, clientes.nombre, clientes.email \n",
            "FROM clientes \n",
            "WHERE clientes.id_cliente = :id_cliente_1\n"
          ]
        }
      ],
      "source": [
        "stmt  =select(clientes).where(clientes.c.id_cliente == 2)\n",
        "print (type(stmt))\n",
        "print (stmt)"
      ]
    },
    {
      "cell_type": "code",
      "execution_count": 14,
      "metadata": {
        "id": "eFzIDXWNOh7l",
        "outputId": "0116d1c2-3de9-460a-e0b0-243fe4c0ee18",
        "colab": {
          "base_uri": "https://localhost:8080/"
        }
      },
      "outputs": [
        {
          "output_type": "stream",
          "name": "stdout",
          "text": [
            "(2, 'Cliente 2', 'email1@email.com')\n"
          ]
        }
      ],
      "source": [
        "with engine.connect() as conn:\n",
        "    result = conn.execute(stmt)\n",
        "    for key in result.fetchall():\n",
        "        print(key)"
      ]
    },
    {
      "cell_type": "code",
      "execution_count": 15,
      "metadata": {
        "id": "hPH__tz5Oh7m",
        "outputId": "1b67e195-315a-4ba5-bf99-46dcd53e4089",
        "colab": {
          "base_uri": "https://localhost:8080/"
        }
      },
      "outputs": [
        {
          "output_type": "stream",
          "name": "stdout",
          "text": [
            "<class 'sqlalchemy.sql.selectable.Select'>\n",
            "SELECT clientes.id_cliente, clientes.nombre, clientes.email \n",
            "FROM clientes \n",
            "WHERE lower(clientes.nombre) LIKE lower(:nombre_1)\n"
          ]
        }
      ],
      "source": [
        "stmt  =select(clientes).where(clientes.c.nombre.ilike('%4%'))\n",
        "print (type(stmt))\n",
        "print (stmt)"
      ]
    },
    {
      "cell_type": "code",
      "execution_count": 16,
      "metadata": {
        "id": "QphJOK4SOh7n",
        "outputId": "c050b1ed-ae25-45b7-9636-e548674e06bc",
        "colab": {
          "base_uri": "https://localhost:8080/"
        }
      },
      "outputs": [
        {
          "output_type": "stream",
          "name": "stdout",
          "text": [
            "(4, 'Cliente 4', 'email3@email.com')\n"
          ]
        }
      ],
      "source": [
        "with engine.connect() as conn:\n",
        "    result = conn.execute(stmt)\n",
        "    for key in result.fetchall():\n",
        "        print(key)"
      ]
    },
    {
      "cell_type": "code",
      "execution_count": 17,
      "metadata": {
        "id": "6PVljYbsOh7o",
        "outputId": "3a0f1b58-8d31-41a5-d9e0-059ff4c93348",
        "colab": {
          "base_uri": "https://localhost:8080/"
        }
      },
      "outputs": [
        {
          "output_type": "stream",
          "name": "stdout",
          "text": [
            "<class 'sqlalchemy.sql.selectable.Select'>\n",
            "SELECT clientes.id_cliente, clientes.nombre, clientes.email \n",
            "FROM clientes \n",
            "WHERE clientes.nombre IN (__[POSTCOMPILE_nombre_1])\n"
          ]
        }
      ],
      "source": [
        "stmt  =select(clientes).where(clientes.c.nombre.in_([\"Cliente 1\",\"Cliente 2\"]))\n",
        "print (type(stmt))\n",
        "print (stmt)"
      ]
    },
    {
      "cell_type": "code",
      "execution_count": 18,
      "metadata": {
        "id": "eBuMJ149Oh7p",
        "outputId": "44e2ee70-51fa-4f07-ecfc-4956db04b320",
        "colab": {
          "base_uri": "https://localhost:8080/"
        }
      },
      "outputs": [
        {
          "output_type": "stream",
          "name": "stdout",
          "text": [
            "(1, 'Cliente 1', 'clientes@mail.com')\n",
            "(2, 'Cliente 2', 'email1@email.com')\n"
          ]
        }
      ],
      "source": [
        "with engine.connect() as conn:\n",
        "    result = conn.execute(stmt)\n",
        "    for key in result.fetchall():\n",
        "        print(key)"
      ]
    },
    {
      "cell_type": "code",
      "execution_count": 19,
      "metadata": {
        "id": "bvYFb31MOh72",
        "outputId": "8e741dc1-1b1f-45ce-cd90-41807a95791a",
        "colab": {
          "base_uri": "https://localhost:8080/"
        }
      },
      "outputs": [
        {
          "output_type": "stream",
          "name": "stdout",
          "text": [
            "<class 'sqlalchemy.sql.selectable.Select'>\n",
            "SELECT clientes.id_cliente, clientes.nombre, clientes.email \n",
            "FROM clientes \n",
            "WHERE (clientes.nombre NOT IN (__[POSTCOMPILE_nombre_1]))\n"
          ]
        }
      ],
      "source": [
        "stmt  =select(clientes).where(clientes.c.nombre.not_in([\"Cliente 1\",\"Cliente 2\"]))\n",
        "print (type(stmt))\n",
        "print (stmt)"
      ]
    },
    {
      "cell_type": "code",
      "execution_count": 20,
      "metadata": {
        "id": "4UdYiBfXOh73",
        "outputId": "9f9e34e9-c848-4e9b-bd19-56986ea2c411",
        "colab": {
          "base_uri": "https://localhost:8080/"
        }
      },
      "outputs": [
        {
          "output_type": "stream",
          "name": "stdout",
          "text": [
            "(3, 'Cliente 3', 'email2@email.com')\n",
            "(4, 'Cliente 4', 'email3@email.com')\n"
          ]
        }
      ],
      "source": [
        "with engine.connect() as conn:\n",
        "    result = conn.execute(stmt)\n",
        "    for key in result.fetchall():\n",
        "        print(key)"
      ]
    },
    {
      "cell_type": "markdown",
      "metadata": {
        "id": "vnw6Oe2XOh75"
      },
      "source": [
        "#####Textoooo MIooo"
      ]
    },
    {
      "cell_type": "code",
      "execution_count": 21,
      "metadata": {
        "id": "z-ryARKBOh77"
      },
      "outputs": [],
      "source": [
        "stmt = (\n",
        "    delete(clientes).\n",
        "    where(clientes.c.id_cliente == 1)\n",
        ")"
      ]
    },
    {
      "cell_type": "code",
      "execution_count": 22,
      "metadata": {
        "id": "YgIClc7POh78"
      },
      "outputs": [],
      "source": [
        "with engine.connect() as conn:\n",
        "    result = conn.execute(stmt)"
      ]
    },
    {
      "cell_type": "code",
      "execution_count": 23,
      "metadata": {
        "id": "lA54CUoNOh79",
        "outputId": "d484a44d-e643-48ff-847c-2e50d93de68a",
        "colab": {
          "base_uri": "https://localhost:8080/"
        }
      },
      "outputs": [
        {
          "output_type": "stream",
          "name": "stdout",
          "text": [
            "<class 'sqlalchemy.sql.selectable.Select'>\n",
            "SELECT clientes.id_cliente, clientes.nombre, clientes.email \n",
            "FROM clientes\n"
          ]
        }
      ],
      "source": [
        "stmt =select(clientes)\n",
        "print(type(stmt))\n",
        "print(stmt)"
      ]
    },
    {
      "cell_type": "code",
      "execution_count": 24,
      "metadata": {
        "id": "D7bU4PHYOh7-",
        "outputId": "45f6874b-0818-4197-c729-c44b0b50883a",
        "colab": {
          "base_uri": "https://localhost:8080/"
        }
      },
      "outputs": [
        {
          "output_type": "stream",
          "name": "stdout",
          "text": [
            "Cliente 2\n",
            "Cliente 3\n",
            "Cliente 4\n"
          ]
        }
      ],
      "source": [
        "with engine.connect() as conn:\n",
        "    result = conn.execute(stmt)\n",
        "    for key in result.fetchall():\n",
        "        print(key.nombre)"
      ]
    },
    {
      "cell_type": "code",
      "execution_count": 25,
      "metadata": {
        "id": "BMItLLB5Oh7_"
      },
      "outputs": [],
      "source": [
        "stmt = (\n",
        "    update(clientes).\n",
        "    where(clientes.c.id_cliente == 2).\n",
        "    values(nombre='user #5')\n",
        ")"
      ]
    },
    {
      "cell_type": "code",
      "execution_count": 26,
      "metadata": {
        "id": "k1qQXo9rOh8A"
      },
      "outputs": [],
      "source": [
        "with engine.connect() as conn:\n",
        "    result = conn.execute(stmt)"
      ]
    },
    {
      "cell_type": "code",
      "execution_count": 27,
      "metadata": {
        "id": "_0eFxdqKOh8B",
        "outputId": "0709bca7-957a-4ca2-dcc1-be6bbfab62e2",
        "colab": {
          "base_uri": "https://localhost:8080/"
        }
      },
      "outputs": [
        {
          "output_type": "stream",
          "name": "stdout",
          "text": [
            "<class 'sqlalchemy.sql.selectable.Select'>\n",
            "SELECT clientes.id_cliente, clientes.nombre, clientes.email \n",
            "FROM clientes\n"
          ]
        }
      ],
      "source": [
        "stmt =select(clientes)\n",
        "print(type(stmt))\n",
        "print(stmt)"
      ]
    },
    {
      "cell_type": "code",
      "execution_count": 28,
      "metadata": {
        "id": "6peVEvnqOh8B",
        "outputId": "c5ebe605-e954-4467-c3eb-0c6a8e758f4c",
        "colab": {
          "base_uri": "https://localhost:8080/"
        }
      },
      "outputs": [
        {
          "output_type": "stream",
          "name": "stdout",
          "text": [
            "user #5\n",
            "Cliente 3\n",
            "Cliente 4\n"
          ]
        }
      ],
      "source": [
        "with engine.connect() as conn:\n",
        "    result = conn.execute(stmt)\n",
        "    for key in result.fetchall():\n",
        "        print(key.nombre)\n",
        "\n",
        "\n",
        "\n",
        "\n",
        "        "
      ]
    }
  ],
  "metadata": {
    "kernelspec": {
      "display_name": "Python 3.10.4 64-bit",
      "language": "python",
      "name": "python3"
    },
    "language_info": {
      "codemirror_mode": {
        "name": "ipython",
        "version": 3
      },
      "file_extension": ".py",
      "mimetype": "text/x-python",
      "name": "python",
      "nbconvert_exporter": "python",
      "pygments_lexer": "ipython3",
      "version": "3.10.4"
    },
    "orig_nbformat": 4,
    "vscode": {
      "interpreter": {
        "hash": "916dbcbb3f70747c44a77c7bcd40155683ae19c65e1c03b4aa3499c5328201f1"
      }
    },
    "colab": {
      "name": "Untitled-1.ipynb",
      "provenance": []
    }
  },
  "nbformat": 4,
  "nbformat_minor": 0
}