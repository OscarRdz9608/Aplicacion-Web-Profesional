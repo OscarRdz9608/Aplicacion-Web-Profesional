{
 "cells": [
  {
   "cell_type": "code",
   "execution_count": 100,
   "metadata": {},
   "outputs": [],
   "source": [
    "#SQLALchemy ORM\n",
    "from sqlalchemy import create_engine \n",
    "from sqlalchemy import MetaData \n",
    "from sqlalchemy import Table, Column, Integer, String\n",
    "from sqlalchemy import select, insert, update, delete"
   ]
  },
  {
   "cell_type": "code",
   "execution_count": 101,
   "metadata": {},
   "outputs": [],
   "source": [
    "engine = create_engine('sqlite:///prueba.db')"
   ]
  },
  {
   "cell_type": "code",
   "execution_count": 102,
   "metadata": {},
   "outputs": [],
   "source": [
    "metadata=MetaData()"
   ]
  },
  {
   "cell_type": "code",
   "execution_count": 103,
   "metadata": {},
   "outputs": [],
   "source": [
    "clientes =Table(\n",
    "    'clientes', metadata,\n",
    "    Column('id_cliente', Integer, primary_key=True),\n",
    "    Column('nombre', String, nullable=False),\n",
    "    Column('email', String, nullable=False),\n",
    ")"
   ]
  },
  {
   "cell_type": "code",
   "execution_count": 104,
   "metadata": {},
   "outputs": [
    {
     "name": "stdout",
     "output_type": "stream",
     "text": [
      "<class 'sqlalchemy.sql.schema.Table'>\n"
     ]
    }
   ],
   "source": [
    "print(type(clientes))"
   ]
  },
  {
   "cell_type": "code",
   "execution_count": 105,
   "metadata": {},
   "outputs": [],
   "source": [
    "metadata.create_all(engine)"
   ]
  },
  {
   "cell_type": "code",
   "execution_count": 106,
   "metadata": {},
   "outputs": [
    {
     "name": "stdout",
     "output_type": "stream",
     "text": [
      "<class 'sqlalchemy.sql.dml.Insert'>\n",
      "INSERT INTO clientes (nombre, email) VALUES (:nombre, :email)\n"
     ]
    }
   ],
   "source": [
    "stmt = insert(clientes).values(nombre=\"Cliente 1\", email=\"clientes@mail.com\") \n",
    "print(type(stmt))\n",
    "print(stmt)"
   ]
  },
  {
   "cell_type": "code",
   "execution_count": 107,
   "metadata": {},
   "outputs": [],
   "source": [
    "with engine.connect() as conn:\n",
    "    result = conn.execute(stmt)"
   ]
  },
  {
   "cell_type": "code",
   "execution_count": 108,
   "metadata": {},
   "outputs": [
    {
     "name": "stdout",
     "output_type": "stream",
     "text": [
      "<class 'sqlalchemy.sql.dml.Insert'>\n",
      "INSERT INTO clientes (nombre, email) VALUES (:nombre_m0, :email_m0), (:nombre_m1, :email_m1), (:nombre_m2, :email_m2)\n"
     ]
    }
   ],
   "source": [
    "data =[\n",
    "    {\"nombre\": \"Cliente 2\", \"email\": \"email1@email.com\"},\n",
    "    {\"nombre\": \"Cliente 3\", \"email\": \"email2@email.com\"},\n",
    "    {\"nombre\": \"Cliente 4\", \"email\": \"email3@email.com\"}\n",
    "]\n",
    "stmt = insert(clientes).values(data)\n",
    "print(type(stmt))\n",
    "print(stmt)"
   ]
  },
  {
   "cell_type": "code",
   "execution_count": 109,
   "metadata": {},
   "outputs": [],
   "source": [
    "with engine.connect() as conn:\n",
    "    result = conn.execute(stmt)"
   ]
  },
  {
   "cell_type": "code",
   "execution_count": 110,
   "metadata": {},
   "outputs": [
    {
     "name": "stdout",
     "output_type": "stream",
     "text": [
      "<class 'sqlalchemy.sql.selectable.Select'>\n",
      "SELECT clientes.id_cliente, clientes.nombre, clientes.email \n",
      "FROM clientes\n"
     ]
    }
   ],
   "source": [
    "stmt =select(clientes)\n",
    "print(type(stmt))\n",
    "print(stmt)"
   ]
  },
  {
   "cell_type": "code",
   "execution_count": 111,
   "metadata": {},
   "outputs": [
    {
     "name": "stdout",
     "output_type": "stream",
     "text": [
      "Cliente 1\n",
      "Cliente 2\n",
      "Cliente 3\n",
      "Cliente 4\n"
     ]
    }
   ],
   "source": [
    "with engine.connect() as conn:\n",
    "    result = conn.execute(stmt)\n",
    "    for key in result.fetchall():\n",
    "        print(key.nombre)"
   ]
  },
  {
   "cell_type": "code",
   "execution_count": 112,
   "metadata": {},
   "outputs": [
    {
     "name": "stdout",
     "output_type": "stream",
     "text": [
      "<class 'sqlalchemy.sql.selectable.Select'>\n",
      "SELECT clientes.id_cliente, clientes.nombre, clientes.email \n",
      "FROM clientes \n",
      "WHERE clientes.id_cliente = :id_cliente_1\n"
     ]
    }
   ],
   "source": [
    "stmt  =select(clientes).where(clientes.c.id_cliente == 2)\n",
    "print (type(stmt))\n",
    "print (stmt)"
   ]
  },
  {
   "cell_type": "code",
   "execution_count": 113,
   "metadata": {},
   "outputs": [
    {
     "name": "stdout",
     "output_type": "stream",
     "text": [
      "(2, 'Cliente 2', 'email1@email.com')\n"
     ]
    }
   ],
   "source": [
    "with engine.connect() as conn:\n",
    "    result = conn.execute(stmt)\n",
    "    for key in result.fetchall():\n",
    "        print(key)"
   ]
  },
  {
   "cell_type": "code",
   "execution_count": 114,
   "metadata": {},
   "outputs": [
    {
     "name": "stdout",
     "output_type": "stream",
     "text": [
      "<class 'sqlalchemy.sql.selectable.Select'>\n",
      "SELECT clientes.id_cliente, clientes.nombre, clientes.email \n",
      "FROM clientes \n",
      "WHERE lower(clientes.nombre) LIKE lower(:nombre_1)\n"
     ]
    }
   ],
   "source": [
    "stmt  =select(clientes).where(clientes.c.nombre.ilike('%4%'))\n",
    "print (type(stmt))\n",
    "print (stmt)"
   ]
  },
  {
   "cell_type": "code",
   "execution_count": 115,
   "metadata": {},
   "outputs": [
    {
     "name": "stdout",
     "output_type": "stream",
     "text": [
      "(4, 'Cliente 4', 'email3@email.com')\n"
     ]
    }
   ],
   "source": [
    "with engine.connect() as conn:\n",
    "    result = conn.execute(stmt)\n",
    "    for key in result.fetchall():\n",
    "        print(key)"
   ]
  },
  {
   "cell_type": "code",
   "execution_count": 116,
   "metadata": {},
   "outputs": [
    {
     "name": "stdout",
     "output_type": "stream",
     "text": [
      "<class 'sqlalchemy.sql.selectable.Select'>\n",
      "SELECT clientes.id_cliente, clientes.nombre, clientes.email \n",
      "FROM clientes \n",
      "WHERE clientes.nombre IN (__[POSTCOMPILE_nombre_1])\n"
     ]
    }
   ],
   "source": [
    "stmt  =select(clientes).where(clientes.c.nombre.in_([\"Cliente 1\",\"Cliente 2\"]))\n",
    "print (type(stmt))\n",
    "print (stmt)"
   ]
  },
  {
   "cell_type": "code",
   "execution_count": 117,
   "metadata": {},
   "outputs": [
    {
     "name": "stdout",
     "output_type": "stream",
     "text": [
      "(1, 'Cliente 1', 'clientes@mail.com')\n",
      "(2, 'Cliente 2', 'email1@email.com')\n"
     ]
    }
   ],
   "source": [
    "with engine.connect() as conn:\n",
    "    result = conn.execute(stmt)\n",
    "    for key in result.fetchall():\n",
    "        print(key)"
   ]
  },
  {
   "cell_type": "code",
   "execution_count": 126,
   "metadata": {},
   "outputs": [
    {
     "name": "stdout",
     "output_type": "stream",
     "text": [
      "<class 'sqlalchemy.sql.selectable.Select'>\n",
      "SELECT clientes.id_cliente, clientes.nombre, clientes.email \n",
      "FROM clientes \n",
      "WHERE (clientes.nombre NOT IN (__[POSTCOMPILE_nombre_1]))\n"
     ]
    }
   ],
   "source": [
    "stmt  =select(clientes).where(clientes.c.nombre.not_in([\"Cliente 1\",\"Cliente 2\"]))\n",
    "print (type(stmt))\n",
    "print (stmt)"
   ]
  },
  {
   "cell_type": "code",
   "execution_count": 127,
   "metadata": {},
   "outputs": [
    {
     "name": "stdout",
     "output_type": "stream",
     "text": [
      "(2, 'user #5', 'email1@email.com')\n",
      "(3, 'Cliente 3', 'email2@email.com')\n",
      "(4, 'Cliente 4', 'email3@email.com')\n"
     ]
    }
   ],
   "source": [
    "with engine.connect() as conn:\n",
    "    result = conn.execute(stmt)\n",
    "    for key in result.fetchall():\n",
    "        print(key)"
   ]
  },
  {
   "cell_type": "markdown",
   "metadata": {},
   "source": [
    "#####Textoooo MIooo"
   ]
  },
  {
   "cell_type": "code",
   "execution_count": 118,
   "metadata": {},
   "outputs": [],
   "source": [
    "stmt = (\n",
    "    delete(clientes).\n",
    "    where(clientes.c.id_cliente == 1)\n",
    ")"
   ]
  },
  {
   "cell_type": "code",
   "execution_count": 119,
   "metadata": {},
   "outputs": [],
   "source": [
    "with engine.connect() as conn:\n",
    "    result = conn.execute(stmt)"
   ]
  },
  {
   "cell_type": "code",
   "execution_count": 120,
   "metadata": {},
   "outputs": [
    {
     "name": "stdout",
     "output_type": "stream",
     "text": [
      "<class 'sqlalchemy.sql.selectable.Select'>\n",
      "SELECT clientes.id_cliente, clientes.nombre, clientes.email \n",
      "FROM clientes\n"
     ]
    }
   ],
   "source": [
    "stmt =select(clientes)\n",
    "print(type(stmt))\n",
    "print(stmt)"
   ]
  },
  {
   "cell_type": "code",
   "execution_count": 121,
   "metadata": {},
   "outputs": [
    {
     "name": "stdout",
     "output_type": "stream",
     "text": [
      "Cliente 2\n",
      "Cliente 3\n",
      "Cliente 4\n"
     ]
    }
   ],
   "source": [
    "with engine.connect() as conn:\n",
    "    result = conn.execute(stmt)\n",
    "    for key in result.fetchall():\n",
    "        print(key.nombre)"
   ]
  },
  {
   "cell_type": "code",
   "execution_count": 122,
   "metadata": {},
   "outputs": [],
   "source": [
    "stmt = (\n",
    "    update(clientes).\n",
    "    where(clientes.c.id_cliente == 2).\n",
    "    values(nombre='user #5')\n",
    ")"
   ]
  },
  {
   "cell_type": "code",
   "execution_count": 123,
   "metadata": {},
   "outputs": [],
   "source": [
    "with engine.connect() as conn:\n",
    "    result = conn.execute(stmt)"
   ]
  },
  {
   "cell_type": "code",
   "execution_count": 124,
   "metadata": {},
   "outputs": [
    {
     "name": "stdout",
     "output_type": "stream",
     "text": [
      "<class 'sqlalchemy.sql.selectable.Select'>\n",
      "SELECT clientes.id_cliente, clientes.nombre, clientes.email \n",
      "FROM clientes\n"
     ]
    }
   ],
   "source": [
    "stmt =select(clientes)\n",
    "print(type(stmt))\n",
    "print(stmt)"
   ]
  },
  {
   "cell_type": "code",
   "execution_count": 125,
   "metadata": {},
   "outputs": [
    {
     "name": "stdout",
     "output_type": "stream",
     "text": [
      "user #5\n",
      "Cliente 3\n",
      "Cliente 4\n"
     ]
    }
   ],
   "source": [
    "with engine.connect() as conn:\n",
    "    result = conn.execute(stmt)\n",
    "    for key in result.fetchall():\n",
    "        print(key.nombre)"
   ]
  }
 ],
 "metadata": {
  "kernelspec": {
   "display_name": "Python 3.10.4 64-bit",
   "language": "python",
   "name": "python3"
  },
  "language_info": {
   "codemirror_mode": {
    "name": "ipython",
    "version": 3
   },
   "file_extension": ".py",
   "mimetype": "text/x-python",
   "name": "python",
   "nbconvert_exporter": "python",
   "pygments_lexer": "ipython3",
   "version": "3.10.4"
  },
  "orig_nbformat": 4,
  "vscode": {
   "interpreter": {
    "hash": "916dbcbb3f70747c44a77c7bcd40155683ae19c65e1c03b4aa3499c5328201f1"
   }
  }
 },
 "nbformat": 4,
 "nbformat_minor": 2
}
